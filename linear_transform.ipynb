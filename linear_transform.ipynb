{
 "cells": [
  {
   "cell_type": "code",
   "execution_count": 1,
   "metadata": {},
   "outputs": [],
   "source": [
    "from sys import stderr\n",
    "def debug(var, name=\"hoge\"):\n",
    "    print(name +\":\" + str(type(var)) + \" = \" + repr(var), file=stderr)\n",
    "    return"
   ]
  },
  {
   "cell_type": "code",
   "execution_count": 2,
   "metadata": {},
   "outputs": [],
   "source": [
    "import matplotlib.pyplot as plt\n",
    "import numpy as np"
   ]
  },
  {
   "cell_type": "markdown",
   "metadata": {},
   "source": [
    "# 目次\n",
    "- 線型変換plot\n",
    "- ゼロ空間plot\n",
    "- 固有値(射影)plot\n",
    "- MP逆、同時対角化"
   ]
  },
  {
   "cell_type": "markdown",
   "metadata": {},
   "source": [
    "# 線型変換を可視化する(2x2行列だけ)\n",
    "- 正方形をAで移す"
   ]
  },
  {
   "cell_type": "code",
   "execution_count": 6,
   "metadata": {},
   "outputs": [
    {
     "data": {
      "text/plain": [
       "array([[  1,  -5],\n",
       "       [  2, -10]])"
      ]
     },
     "execution_count": 6,
     "metadata": {},
     "output_type": "execute_result"
    }
   ],
   "source": [
    "'''\n",
    "行列の定義(2x2のみ)\n",
    "'''\n",
    "\n",
    "\n",
    "# nom-regular\n",
    "A = np.array([\n",
    "    [1,-5], \n",
    "    [2,-10]])\n",
    "\n",
    "# regular\n",
    "# A = np.array([\n",
    "#     [2,5],\n",
    "#     [2,2]])\n",
    "\n",
    "# rotation\n",
    "# theta = np.pi/4\n",
    "# A = np.array([[np.cos(theta), np.sin(theta)], [-np.sin(theta), np.cos(theta)]])\n",
    "A"
   ]
  },
  {
   "cell_type": "code",
   "execution_count": 9,
   "metadata": {},
   "outputs": [
    {
     "name": "stderr",
     "output_type": "stream",
     "text": [
      "/Library/Frameworks/Python.framework/Versions/3.7/lib/python3.7/site-packages/matplotlib/figure.py:98: MatplotlibDeprecationWarning: \n",
      "Adding an axes using the same arguments as a previous axes currently reuses the earlier instance.  In a future version, a new instance will always be created and returned.  Meanwhile, this warning can be suppressed, and the future behavior ensured, by passing a unique label to each axes instance.\n",
      "  \"Adding an axes using the same arguments as a previous axes \"\n"
     ]
    },
    {
     "data": {
      "image/png": "[encoded data removed]",
      "text/plain": [
       "<Figure size 432x288 with 1 Axes>"
      ]
     },
     "metadata": {
      "needs_background": "light"
     },
     "output_type": "display_data"
    }
   ],
   "source": [
    "# AX = y で正方形を移す\n",
    "\n",
    "# 辺の大きさ１の正方形(最後の[0,0]はpyplotの都合)\n",
    "X = np.array([\n",
    "    [0,0], \n",
    "    [0,1], \n",
    "    [1,1], \n",
    "    [1,0], \n",
    "    [0,0]])\n",
    "\n",
    "Y = np.array([A@x for x in X])\n",
    "\n",
    "plt.plot([x[0] for x in X ], [x[1] for x in X ], 'b')\n",
    "plt.plot([y[0] for y in Y ], [y[1] for y in Y ], 'r')\n",
    "\n",
    "\n",
    "plt.xlabel('x')\n",
    "plt.ylabel('y')\n",
    "plt.xlim(-6,6)\n",
    "plt.ylim(-6,6)\n",
    "plt.title(r'linear transform')\n",
    "plt.axes().set_aspect(\"equal\")\n",
    "plt.grid(True)\n",
    "plt.show()"
   ]
  },
  {
   "cell_type": "markdown",
   "metadata": {},
   "source": [
    "# Aのゼロ空間(kernel)の可視化\n",
    "- 5*5の正方形(内部も)を移してその範囲のkernelをplotする\n",
    "- Aの転置の像とAのkernelが直交するチェック"
   ]
  },
  {
   "cell_type": "code",
   "execution_count": 15,
   "metadata": {},
   "outputs": [
    {
     "name": "stderr",
     "output_type": "stream",
     "text": [
      "/Library/Frameworks/Python.framework/Versions/3.7/lib/python3.7/site-packages/matplotlib/figure.py:98: MatplotlibDeprecationWarning: \n",
      "Adding an axes using the same arguments as a previous axes currently reuses the earlier instance.  In a future version, a new instance will always be created and returned.  Meanwhile, this warning can be suppressed, and the future behavior ensured, by passing a unique label to each axes instance.\n",
      "  \"Adding an axes using the same arguments as a previous axes \"\n"
     ]
    },
    {
     "data": {
      "image/png": "[encoded data removed]",
      "text/plain": [
       "<Figure size 432x288 with 1 Axes>"
      ]
     },
     "metadata": {
      "needs_background": "light"
     },
     "output_type": "display_data"
    }
   ],
   "source": [
    "# Aのゼロ空間(kernel)を可視化するために5*5の正方形内の点を作る\n",
    "x0,x1 = np.meshgrid(np.arange(-5, 5, 000.1),np.arange(-5, 5, 000.1))\n",
    "plt.plot(x0, x1, 'r')\n",
    "plt.xlabel('x')\n",
    "plt.ylabel('y')\n",
    "X = np.array([np.array([aa,bb],ndmin=2) for a,b in zip(x0, x1) for aa, bb in zip(a,b)])\n",
    "plt.xlabel('x')\n",
    "plt.ylabel('y')\n",
    "plt.xlim(-6,6)\n",
    "plt.ylim(-6,6)\n",
    "plt.title(r'grid')\n",
    "plt.grid(True)\n",
    "plt.axes().set_aspect(\"equal\")\n",
    "plt.show()"
   ]
  },
  {
   "cell_type": "code",
   "execution_count": 16,
   "metadata": {},
   "outputs": [],
   "source": [
    "# kernel space calc()\n",
    "kerAx = []\n",
    "kerAy = []\n",
    "EPS = 10e-10\n",
    "for p in X:\n",
    "    tmp = A@np.transpose(p)\n",
    "    if abs(tmp[0][0]) < EPS and abs(tmp[1][0]) < EPS:\n",
    "        kerAx.append(p[0][0])\n",
    "        kerAy.append(p[0][1])"
   ]
  },
  {
   "cell_type": "code",
   "execution_count": 17,
   "metadata": {},
   "outputs": [
    {
     "name": "stderr",
     "output_type": "stream",
     "text": [
      "/Library/Frameworks/Python.framework/Versions/3.7/lib/python3.7/site-packages/matplotlib/figure.py:98: MatplotlibDeprecationWarning: \n",
      "Adding an axes using the same arguments as a previous axes currently reuses the earlier instance.  In a future version, a new instance will always be created and returned.  Meanwhile, this warning can be suppressed, and the future behavior ensured, by passing a unique label to each axes instance.\n",
      "  \"Adding an axes using the same arguments as a previous axes \"\n"
     ]
    },
    {
     "data": {
      "image/png": "[encoded data removed]",
      "text/plain": [
       "<Figure size 432x288 with 1 Axes>"
      ]
     },
     "metadata": {
      "needs_background": "light"
     },
     "output_type": "display_data"
    }
   ],
   "source": [
    "# ker(A) is orthogonal to image(A.T)\n",
    "plt.plot(kerAx, kerAy, 'b')\n",
    "Y = np.array([A.T@np.transpose(x) for x in X])\n",
    "plt.plot([y[0][0] for y in Y ], [y[1][0] for y in Y ], 'r')\n",
    "plt.xlabel('x')\n",
    "plt.ylabel('y')\n",
    "plt.xlim(-10,10)\n",
    "plt.ylim(-10,10)\n",
    "plt.title(r'Blue: kerA, Red: ImAt')\n",
    "plt.grid(True)\n",
    "plt.axes().set_aspect(\"equal\")\n",
    "plt.show()"
   ]
  },
  {
   "cell_type": "markdown",
   "metadata": {},
   "source": [
    "# 固有ベクトルで遊ぶ\n",
    "- 固有ベクトルがちゃんと定数倍されてるのを確認する(rのプロットがbで見えない(?))でもこれ対称行列以外のケースうまくいかない\n",
    "- その固有ベクトルに適当な点ベクトルを射影する"
   ]
  },
  {
   "cell_type": "code",
   "execution_count": 48,
   "metadata": {},
   "outputs": [
    {
     "data": {
      "text/plain": [
       "array([[2, 4],\n",
       "       [4, 2]])"
      ]
     },
     "execution_count": 48,
     "metadata": {},
     "output_type": "execute_result"
    }
   ],
   "source": [
    "'''\n",
    "行列の定義(2x2のみ)\n",
    "'''\n",
    "\n",
    "\n",
    "# nom-regular\n",
    "# A = np.array([\n",
    "#     [1,-5], \n",
    "#     [2,-10]])\n",
    "\n",
    "# regular\n",
    "A = np.array([\n",
    "    [2,4],\n",
    "    [4,2]])\n",
    "\n",
    "# rotation\n",
    "# theta = np.pi/4\n",
    "# A = np.array([[np.cos(theta), np.sin(theta)], [-np.sin(theta), np.cos(theta)]])\n",
    "A"
   ]
  },
  {
   "cell_type": "code",
   "execution_count": 49,
   "metadata": {},
   "outputs": [
    {
     "data": {
      "text/plain": [
       "array([ 6., -2.])"
      ]
     },
     "execution_count": 49,
     "metadata": {},
     "output_type": "execute_result"
    }
   ],
   "source": [
    "L,P = np.linalg.eig(A)\n",
    "v0 = P[:,0]\n",
    "v1 = P[:,1]\n",
    "L"
   ]
  },
  {
   "cell_type": "code",
   "execution_count": 50,
   "metadata": {},
   "outputs": [
    {
     "data": {
      "text/plain": [
       "0.0"
      ]
     },
     "execution_count": 50,
     "metadata": {},
     "output_type": "execute_result"
    }
   ],
   "source": [
    "# Aが対称なら固有ベクトルは直交する\n",
    "np.dot(v0,v1)"
   ]
  },
  {
   "cell_type": "code",
   "execution_count": 51,
   "metadata": {},
   "outputs": [
    {
     "data": {
      "text/plain": [
       "(0.9999999999999999, 0.9999999999999999)"
      ]
     },
     "execution_count": 51,
     "metadata": {},
     "output_type": "execute_result"
    }
   ],
   "source": [
    "np.linalg.norm(v0),np.linalg.norm(v1)"
   ]
  },
  {
   "cell_type": "code",
   "execution_count": 61,
   "metadata": {},
   "outputs": [
    {
     "name": "stdout",
     "output_type": "stream",
     "text": [
      "6.0\n",
      "2.0\n"
     ]
    },
    {
     "data": {
      "image/png": "[encoded data removed]",
      "text/plain": [
       "<Figure size 432x288 with 1 Axes>"
      ]
     },
     "metadata": {
      "needs_background": "light"
     },
     "output_type": "display_data"
    }
   ],
   "source": [
    "# eigen vector　\n",
    "ax = plt.axes()\n",
    "ax.set_aspect('equal')\n",
    "plt.grid(True)\n",
    "\n",
    "plt.plot([0,v0[0]],[0,v0[1]],\"r\")\n",
    "ax.annotate(\"v0\",(v0[0],v0[1]))\n",
    "\n",
    "plt.plot([0,v1[0]],[0,v1[1]],\"r\")\n",
    "ax.annotate(\"v1\",(v1[0],v1[1]))\n",
    "\n",
    "plt.plot([0,(v0@A)[0]],[0,(v0@A)[1]],\"b\")\n",
    "ax.annotate(\"v0@A\",((v0@A)[0],(v0@A)[1]))\n",
    "\n",
    "plt.plot([0,(v1@A)[0]],[0,(v1@A)[1]],\"b\")\n",
    "ax.annotate(\"v1@A\",((v1@A)[0],(v1@A)[1]))\n",
    "\n",
    "# 大きさの確認\n",
    "print(np.linalg.norm(v0@A)/np.linalg.norm(v0))\n",
    "print(np.linalg.norm(v1@A)/np.linalg.norm(v1))\n"
   ]
  },
  {
   "cell_type": "code",
   "execution_count": 58,
   "metadata": {},
   "outputs": [
    {
     "name": "stdout",
     "output_type": "stream",
     "text": [
      "[ 6. -6.]\n"
     ]
    },
    {
     "data": {
      "text/plain": [
       "Text(5.999999999999999, -5.999999999999999, 'x projection to v1')"
      ]
     },
     "execution_count": 58,
     "metadata": {},
     "output_type": "execute_result"
    },
    {
     "data": {
      "image/png": "[encoded data removed]",
      "text/plain": [
       "<Figure size 432x288 with 1 Axes>"
      ]
     },
     "metadata": {
      "needs_background": "light"
     },
     "output_type": "display_data"
    }
   ],
   "source": [
    "# てきとうなベクトルを上のv2に射影する\n",
    "x = np.array([5,-7])\n",
    "# settings\n",
    "ax = plt.axes()\n",
    "ax.set_aspect('equal')\n",
    "plt.grid(True)\n",
    "plt.xlim(-10,10)\n",
    "plt.ylim(-10,10)\n",
    "\n",
    "# plotting basis, target vector\n",
    "plt.plot([0,v0[0]],[0,v0[1]],\"r\")\n",
    "ax.annotate(\"v0\",(v0[0],v0[1]))\n",
    "\n",
    "plt.plot([0,v1[0]],[0,v1[1]],\"r\")\n",
    "ax.annotate(\"v1\",(v1[0],v1[1]))\n",
    "plt.plot([0,x[0]],[0,x[1]])\n",
    "ax.annotate(\"x\",(x[0],x[1]))\n",
    "\n",
    "# projection\n",
    "# calculate inner product of basis and target\n",
    "projv1 = (x.T@v1)*v1\n",
    "print(projv1)\n",
    "plt.plot([0,projv1[0]],[0,projv1[1]], \"b\")\n",
    "ax.annotate(\"x projection to v1\",(projv1[0],projv1[1]))"
   ]
  },
  {
   "cell_type": "code",
   "execution_count": 70,
   "metadata": {},
   "outputs": [
    {
     "name": "stdout",
     "output_type": "stream",
     "text": [
      "[ -6. -17.]\n",
      "[ -6 -17]\n"
     ]
    }
   ],
   "source": [
    "# vector representation of eigen vector basis P-1@x\n",
    "eigenrepr = np.linalg.inv(P)@x\n",
    "print(eigenrepr[0]*P[:,0] + eigenrepr[1]*P[:,1])\n",
    "print(x)"
   ]
  },
  {
   "cell_type": "markdown",
   "metadata": {},
   "source": [
    "# [一般逆](https://ja.wikipedia.org/wiki/%E6%93%AC%E4%BC%BC%E9%80%86%E8%A1%8C%E5%88%97)と同時対角化\n",
    "- MP逆の計算(numpyだけですはい)\n",
    "- 同時対角化の計算\n",
    "    - P_inv@A@Pが単位行列になるPを求める(対角化して、対角行列の-0.5乗を計算するなどして)"
   ]
  },
  {
   "cell_type": "code",
   "execution_count": 19,
   "metadata": {},
   "outputs": [
    {
     "data": {
      "text/plain": [
       "array([[0.01153846, 0.05769231],\n",
       "       [0.00384615, 0.01923077]])"
      ]
     },
     "execution_count": 19,
     "metadata": {},
     "output_type": "execute_result"
    }
   ],
   "source": [
    "# General inverse matrix\n",
    "A = np.array([\n",
    "    [3,1],\n",
    "    [15,5]])\n",
    "np.linalg.pinv(A)"
   ]
  },
  {
   "cell_type": "code",
   "execution_count": 20,
   "metadata": {},
   "outputs": [
    {
     "data": {
      "text/plain": [
       "array([[ 0.70710678, -0.70710678],\n",
       "       [ 0.70710678,  0.70710678]])"
      ]
     },
     "execution_count": 20,
     "metadata": {},
     "output_type": "execute_result"
    }
   ],
   "source": [
    "A = np.array([\n",
    "    [2,1],\n",
    "    [1,2]])\n",
    "B = np.array([\n",
    "    [4+np.sqrt(3),2],\n",
    "    [2,4-np.sqrt(3)]])\n",
    "# A = np.array([\n",
    "#     [2.5,1.5],\n",
    "#     [1.5,2.5]])\n",
    "# B = np.array([\n",
    "#     [37/4,15/4],\n",
    "#     [15/4,13/4]])\n",
    "# numpy eig returns normalized value\n",
    "L, P_inv = np.linalg.eig(A)\n",
    "P_inv"
   ]
  },
  {
   "cell_type": "code",
   "execution_count": 21,
   "metadata": {},
   "outputs": [
    {
     "name": "stdout",
     "output_type": "stream",
     "text": [
      "[[ 1.00000000e+00  8.25542809e-18]\n",
      " [-7.75139526e-18  1.00000000e+00]]\n",
      "[[3.00000000e+00 3.21675714e-16]\n",
      " [6.46463071e-16 1.00000000e+00]]\n"
     ]
    }
   ],
   "source": [
    "L_sq = np.array([\n",
    "    [1/np.sqrt(L[1]),0],\n",
    "    [0,1/np.sqrt(L[0])]])\n",
    "T = L_sq@P_inv\n",
    "\n",
    "# check TはAを単位行列にする\n",
    "print(T@A@T.T)\n",
    "\n",
    "# T@B@T.Tを対角化するPを求める\n",
    "targ = T@B@T.T\n",
    "\n",
    "L, P_inv = np.linalg.eig(targ)\n",
    "\n",
    "# check P_invはtargを単位行列にする\n",
    "print(P_inv@targ@P_inv.T)\n",
    "\n",
    "G = P_inv@T"
   ]
  },
  {
   "cell_type": "code",
   "execution_count": 22,
   "metadata": {},
   "outputs": [
    {
     "data": {
      "text/plain": [
       "array([[1.00000000e+00, 1.52438829e-16],\n",
       "       [1.02372001e-16, 1.00000000e+00]])"
      ]
     },
     "execution_count": 22,
     "metadata": {},
     "output_type": "execute_result"
    }
   ],
   "source": [
    "# 対角化チェック\n",
    "G@A@G.T"
   ]
  },
  {
   "cell_type": "code",
   "execution_count": 23,
   "metadata": {},
   "outputs": [
    {
     "data": {
      "text/plain": [
       "array([[3.00000000e+00, 4.57316487e-16],\n",
       "       [4.90950060e-16, 1.00000000e+00]])"
      ]
     },
     "execution_count": 23,
     "metadata": {},
     "output_type": "execute_result"
    }
   ],
   "source": [
    "G@B@G.T"
   ]
  },
  {
   "cell_type": "markdown",
   "metadata": {},
   "source": [
    "# エルミート行列のチェック\n",
    "- 随伴チェック(定義なので)\n",
    "- 固有値が実数\n",
    "- 固有値ベクトルが全部直交(対称だからそう)"
   ]
  },
  {
   "cell_type": "code",
   "execution_count": 66,
   "metadata": {},
   "outputs": [],
   "source": [
    "import numpy as np\n",
    "H = np.array([[2, 4+1j],[4-1j, 1]])"
   ]
  },
  {
   "cell_type": "code",
   "execution_count": 67,
   "metadata": {},
   "outputs": [
    {
     "data": {
      "text/plain": [
       "array([[ True,  True],\n",
       "       [ True,  True]])"
      ]
     },
     "execution_count": 67,
     "metadata": {},
     "output_type": "execute_result"
    }
   ],
   "source": [
    "H == H.T.conjugate()"
   ]
  },
  {
   "cell_type": "code",
   "execution_count": 68,
   "metadata": {},
   "outputs": [
    {
     "data": {
      "text/plain": [
       "array([[ 0.74846037+0.j        , -0.64337864-0.16084466j],\n",
       "       [ 0.64337864-0.16084466j,  0.74846037+0.j        ]])"
      ]
     },
     "execution_count": 68,
     "metadata": {},
     "output_type": "execute_result"
    }
   ],
   "source": [
    "# Hermite matrix has real eigen value\n",
    "L, P = np.linalg.eig(H)\n",
    "P"
   ]
  },
  {
   "cell_type": "code",
   "execution_count": 69,
   "metadata": {},
   "outputs": [
    {
     "data": {
      "text/plain": [
       "(2.220446049250313e-16-8.326672684688674e-17j)"
      ]
     },
     "execution_count": 69,
     "metadata": {},
     "output_type": "execute_result"
    }
   ],
   "source": [
    "# Hermite matrix's(symmetric) eigen vectors orthogonal\n",
    "P[:,1].conjugate().T@P[:,0]"
   ]
  }
 ],
 "metadata": {
  "kernelspec": {
   "display_name": "Python 3",
   "language": "python",
   "name": "python3"
  },
  "language_info": {
   "codemirror_mode": {
    "name": "ipython",
    "version": 3
   },
   "file_extension": ".py",
   "mimetype": "text/x-python",
   "name": "python",
   "nbconvert_exporter": "python",
   "pygments_lexer": "ipython3",
   "version": "3.7.0"
  }
 },
 "nbformat": 4,
 "nbformat_minor": 2
}
